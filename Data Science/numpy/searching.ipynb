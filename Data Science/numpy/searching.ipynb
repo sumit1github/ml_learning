{
 "cells": [
  {
   "cell_type": "code",
   "execution_count": 1,
   "metadata": {},
   "outputs": [
    {
     "name": "stdout",
     "output_type": "stream",
     "text": [
      "arr = [10 32 30 50 20 82 91 45]\n",
      "i = (array([2]),)\n"
     ]
    }
   ],
   "source": [
    "import numpy as np\n",
    "  \n",
    "# creating the array\n",
    "arr = np.array([10, 32, 30, 50, 20, 82, 91, 45])\n",
    "  \n",
    "#  printing arr\n",
    "print(\"arr = {}\".format(arr))\n",
    "  \n",
    "#  looking for value 30 in arr and storing its index in i\n",
    "i = np.where(arr == 30)\n",
    "print(\"i = {}\".format(i))"
   ]
  }
 ],
 "metadata": {
  "kernelspec": {
   "display_name": ".venv",
   "language": "python",
   "name": "python3"
  },
  "language_info": {
   "codemirror_mode": {
    "name": "ipython",
    "version": 3
   },
   "file_extension": ".py",
   "mimetype": "text/x-python",
   "name": "python",
   "nbconvert_exporter": "python",
   "pygments_lexer": "ipython3",
   "version": "3.10.12"
  },
  "orig_nbformat": 4
 },
 "nbformat": 4,
 "nbformat_minor": 2
}
