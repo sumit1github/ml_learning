{
 "cells": [
  {
   "cell_type": "code",
   "execution_count": 1,
   "metadata": {},
   "outputs": [
    {
     "name": "stderr",
     "output_type": "stream",
     "text": [
      "/home/sumit/Desktop/ml_learning/env/lib/python3.10/site-packages/tqdm/auto.py:21: TqdmWarning: IProgress not found. Please update jupyter and ipywidgets. See https://ipywidgets.readthedocs.io/en/stable/user_install.html\n",
      "  from .autonotebook import tqdm as notebook_tqdm\n",
      "/tmp/ipykernel_9139/2951129639.py:2: DeprecationWarning: `import pandas_profiling` is going to be deprecated by April 1st. Please use `import ydata_profiling` instead.\n",
      "  from pandas_profiling import ProfileReport\n",
      "Summarize dataset: 100%|██████████| 17/17 [00:04<00:00,  4.18it/s, Completed]                \n",
      "Generate report structure: 100%|██████████| 1/1 [00:01<00:00,  1.92s/it]\n",
      "Render HTML: 100%|██████████| 1/1 [00:00<00:00,  3.05it/s]\n",
      "Export report to file: 100%|██████████| 1/1 [00:00<00:00, 401.87it/s]\n"
     ]
    }
   ],
   "source": [
    "import pandas as pd\n",
    "from pandas_profiling import ProfileReport\n",
    "dct = {'ID': {0: 23, 1: 43, 2: 12, 3: 13,\n",
    "              4: 67, 5: 89, 6: 90, 7: 56,\n",
    "              8: 34},\n",
    "       'Name': {0: 'Ram', 1: 'Deep', 2: 'Yash',\n",
    "                3: 'Aman', 4: 'Arjun', 5: 'Aditya',\n",
    "                6: 'Divya', 7: 'Chalsea',\n",
    "                8: 'Akash' },\n",
    "       'Marks': {0: 89, 1: 97, 2: 45, 3: 78,\n",
    "                 4: 56, 5: 76, 6: 100, 7: 87,\n",
    "                 8: 81},\n",
    "       'Grade': {0: 'B', 1: 'A', 2: 'F', 3: 'C',\n",
    "                 4: 'E', 5: 'C', 6: 'A', 7: 'B',\n",
    "                 8: 'B'}\n",
    "      }\n",
    " \n",
    "# forming dataframe and printing\n",
    "df = pd.DataFrame(dct)\n",
    "profile = ProfileReport(df)\n",
    "profile.to_file(\"output.html\")"
   ]
  }
 ],
 "metadata": {
  "kernelspec": {
   "display_name": "env",
   "language": "python",
   "name": "python3"
  },
  "language_info": {
   "codemirror_mode": {
    "name": "ipython",
    "version": 3
   },
   "file_extension": ".py",
   "mimetype": "text/x-python",
   "name": "python",
   "nbconvert_exporter": "python",
   "pygments_lexer": "ipython3",
   "version": "3.10.12"
  },
  "orig_nbformat": 4
 },
 "nbformat": 4,
 "nbformat_minor": 2
}
